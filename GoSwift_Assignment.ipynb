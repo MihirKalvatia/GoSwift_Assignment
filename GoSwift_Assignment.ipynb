{
 "cells": [
  {
   "cell_type": "code",
   "execution_count": 1,
   "id": "e976fca1",
   "metadata": {},
   "outputs": [],
   "source": [
    "import pandas as pd\n",
    "import matplotlib.pyplot as plt"
   ]
  },
  {
   "cell_type": "code",
   "execution_count": 2,
   "id": "395df9dd",
   "metadata": {},
   "outputs": [],
   "source": [
    "sales_data = pd.read_csv(\"Sales_Data.csv\")\n",
    "glance_view = pd.read_csv(\"Glance_Views.csv\")"
   ]
  },
  {
   "cell_type": "code",
   "execution_count": 3,
   "id": "8a1f9e85",
   "metadata": {},
   "outputs": [
    {
     "name": "stdout",
     "output_type": "stream",
     "text": [
      "   Unnamed: 0    SKU_NAME   FEED_DATE     CATEGORY SUB_CATEGORY  \\\n",
      "0           0  B12020KBUI  2019-05-18  1000 Inputs    1002 Mice   \n",
      "1           1  B12020KBUI  2019-05-19  1000 Inputs    1002 Mice   \n",
      "2           2  B12020KBUI  2019-05-22  1000 Inputs    1002 Mice   \n",
      "3           3  B12020KBUI  2019-05-23  1000 Inputs    1002 Mice   \n",
      "4           4  B12020KBUI  2019-05-27  1000 Inputs    1002 Mice   \n",
      "\n",
      "   ORDERED_REVENUE  ORDERED_UNITS  REP_OOS  \n",
      "0              0.0            0.0      0.0  \n",
      "1              0.0            0.0      0.0  \n",
      "2              0.0            0.0      0.0  \n",
      "3              0.0            0.0      0.0  \n",
      "4              0.0            0.0      0.0  \n"
     ]
    }
   ],
   "source": [
    "print(sales_data.head())"
   ]
  },
  {
   "cell_type": "code",
   "execution_count": 4,
   "id": "1fae60f7",
   "metadata": {},
   "outputs": [
    {
     "name": "stdout",
     "output_type": "stream",
     "text": [
      "   Unnamed: 0    SKU_NAME   FEED_DATE  VIEWS  UNITS\n",
      "0           0  B1212:PZ:V  2019-05-01  455.0   16.0\n",
      "1           1  B1212:PZ:V  2019-05-02  478.0   12.0\n",
      "2           2  B1212:PZ:V  2019-05-03  681.0   42.0\n",
      "3           3  B1212:PZ:V  2019-05-04  662.0   70.0\n",
      "4           4  B1212:PZ:V  2019-05-05  568.0   33.0\n"
     ]
    }
   ],
   "source": [
    "print(glance_view.head())"
   ]
  },
  {
   "cell_type": "code",
   "execution_count": 5,
   "id": "5b481774",
   "metadata": {},
   "outputs": [],
   "source": [
    "sales_data = sales_data.drop(\"Unnamed: 0\", axis = 1)"
   ]
  },
  {
   "cell_type": "code",
   "execution_count": 6,
   "id": "dc638b7b",
   "metadata": {},
   "outputs": [],
   "source": [
    "glance_view = glance_view.drop(\"Unnamed: 0\", axis = 1)"
   ]
  },
  {
   "cell_type": "code",
   "execution_count": 7,
   "id": "2c7fd7dd",
   "metadata": {},
   "outputs": [
    {
     "data": {
      "text/html": [
       "<div>\n",
       "<style scoped>\n",
       "    .dataframe tbody tr th:only-of-type {\n",
       "        vertical-align: middle;\n",
       "    }\n",
       "\n",
       "    .dataframe tbody tr th {\n",
       "        vertical-align: top;\n",
       "    }\n",
       "\n",
       "    .dataframe thead th {\n",
       "        text-align: right;\n",
       "    }\n",
       "</style>\n",
       "<table border=\"1\" class=\"dataframe\">\n",
       "  <thead>\n",
       "    <tr style=\"text-align: right;\">\n",
       "      <th></th>\n",
       "      <th>SKU_NAME</th>\n",
       "      <th>FEED_DATE</th>\n",
       "      <th>CATEGORY</th>\n",
       "      <th>SUB_CATEGORY</th>\n",
       "      <th>ORDERED_REVENUE</th>\n",
       "      <th>ORDERED_UNITS</th>\n",
       "      <th>REP_OOS</th>\n",
       "    </tr>\n",
       "  </thead>\n",
       "  <tbody>\n",
       "    <tr>\n",
       "      <th>0</th>\n",
       "      <td>B12020KBUI</td>\n",
       "      <td>2019-05-18</td>\n",
       "      <td>1000 Inputs</td>\n",
       "      <td>1002 Mice</td>\n",
       "      <td>0.0</td>\n",
       "      <td>0.0</td>\n",
       "      <td>0.0</td>\n",
       "    </tr>\n",
       "    <tr>\n",
       "      <th>1</th>\n",
       "      <td>B12020KBUI</td>\n",
       "      <td>2019-05-19</td>\n",
       "      <td>1000 Inputs</td>\n",
       "      <td>1002 Mice</td>\n",
       "      <td>0.0</td>\n",
       "      <td>0.0</td>\n",
       "      <td>0.0</td>\n",
       "    </tr>\n",
       "    <tr>\n",
       "      <th>2</th>\n",
       "      <td>B12020KBUI</td>\n",
       "      <td>2019-05-22</td>\n",
       "      <td>1000 Inputs</td>\n",
       "      <td>1002 Mice</td>\n",
       "      <td>0.0</td>\n",
       "      <td>0.0</td>\n",
       "      <td>0.0</td>\n",
       "    </tr>\n",
       "    <tr>\n",
       "      <th>3</th>\n",
       "      <td>B12020KBUI</td>\n",
       "      <td>2019-05-23</td>\n",
       "      <td>1000 Inputs</td>\n",
       "      <td>1002 Mice</td>\n",
       "      <td>0.0</td>\n",
       "      <td>0.0</td>\n",
       "      <td>0.0</td>\n",
       "    </tr>\n",
       "    <tr>\n",
       "      <th>4</th>\n",
       "      <td>B12020KBUI</td>\n",
       "      <td>2019-05-27</td>\n",
       "      <td>1000 Inputs</td>\n",
       "      <td>1002 Mice</td>\n",
       "      <td>0.0</td>\n",
       "      <td>0.0</td>\n",
       "      <td>0.0</td>\n",
       "    </tr>\n",
       "  </tbody>\n",
       "</table>\n",
       "</div>"
      ],
      "text/plain": [
       "     SKU_NAME   FEED_DATE     CATEGORY SUB_CATEGORY  ORDERED_REVENUE  \\\n",
       "0  B12020KBUI  2019-05-18  1000 Inputs    1002 Mice              0.0   \n",
       "1  B12020KBUI  2019-05-19  1000 Inputs    1002 Mice              0.0   \n",
       "2  B12020KBUI  2019-05-22  1000 Inputs    1002 Mice              0.0   \n",
       "3  B12020KBUI  2019-05-23  1000 Inputs    1002 Mice              0.0   \n",
       "4  B12020KBUI  2019-05-27  1000 Inputs    1002 Mice              0.0   \n",
       "\n",
       "   ORDERED_UNITS  REP_OOS  \n",
       "0            0.0      0.0  \n",
       "1            0.0      0.0  \n",
       "2            0.0      0.0  \n",
       "3            0.0      0.0  \n",
       "4            0.0      0.0  "
      ]
     },
     "execution_count": 7,
     "metadata": {},
     "output_type": "execute_result"
    }
   ],
   "source": [
    "sales_data.head()"
   ]
  },
  {
   "cell_type": "code",
   "execution_count": 8,
   "id": "9c1a9d55",
   "metadata": {},
   "outputs": [
    {
     "data": {
      "text/html": [
       "<div>\n",
       "<style scoped>\n",
       "    .dataframe tbody tr th:only-of-type {\n",
       "        vertical-align: middle;\n",
       "    }\n",
       "\n",
       "    .dataframe tbody tr th {\n",
       "        vertical-align: top;\n",
       "    }\n",
       "\n",
       "    .dataframe thead th {\n",
       "        text-align: right;\n",
       "    }\n",
       "</style>\n",
       "<table border=\"1\" class=\"dataframe\">\n",
       "  <thead>\n",
       "    <tr style=\"text-align: right;\">\n",
       "      <th></th>\n",
       "      <th>SKU_NAME</th>\n",
       "      <th>FEED_DATE</th>\n",
       "      <th>VIEWS</th>\n",
       "      <th>UNITS</th>\n",
       "    </tr>\n",
       "  </thead>\n",
       "  <tbody>\n",
       "    <tr>\n",
       "      <th>0</th>\n",
       "      <td>B1212:PZ:V</td>\n",
       "      <td>2019-05-01</td>\n",
       "      <td>455.0</td>\n",
       "      <td>16.0</td>\n",
       "    </tr>\n",
       "    <tr>\n",
       "      <th>1</th>\n",
       "      <td>B1212:PZ:V</td>\n",
       "      <td>2019-05-02</td>\n",
       "      <td>478.0</td>\n",
       "      <td>12.0</td>\n",
       "    </tr>\n",
       "    <tr>\n",
       "      <th>2</th>\n",
       "      <td>B1212:PZ:V</td>\n",
       "      <td>2019-05-03</td>\n",
       "      <td>681.0</td>\n",
       "      <td>42.0</td>\n",
       "    </tr>\n",
       "    <tr>\n",
       "      <th>3</th>\n",
       "      <td>B1212:PZ:V</td>\n",
       "      <td>2019-05-04</td>\n",
       "      <td>662.0</td>\n",
       "      <td>70.0</td>\n",
       "    </tr>\n",
       "    <tr>\n",
       "      <th>4</th>\n",
       "      <td>B1212:PZ:V</td>\n",
       "      <td>2019-05-05</td>\n",
       "      <td>568.0</td>\n",
       "      <td>33.0</td>\n",
       "    </tr>\n",
       "  </tbody>\n",
       "</table>\n",
       "</div>"
      ],
      "text/plain": [
       "     SKU_NAME   FEED_DATE  VIEWS  UNITS\n",
       "0  B1212:PZ:V  2019-05-01  455.0   16.0\n",
       "1  B1212:PZ:V  2019-05-02  478.0   12.0\n",
       "2  B1212:PZ:V  2019-05-03  681.0   42.0\n",
       "3  B1212:PZ:V  2019-05-04  662.0   70.0\n",
       "4  B1212:PZ:V  2019-05-05  568.0   33.0"
      ]
     },
     "execution_count": 8,
     "metadata": {},
     "output_type": "execute_result"
    }
   ],
   "source": [
    "glance_view.head()"
   ]
  },
  {
   "cell_type": "markdown",
   "id": "e9f8a60c",
   "metadata": {},
   "source": [
    "# QUESTION 1"
   ]
  },
  {
   "cell_type": "code",
   "execution_count": 9,
   "id": "d270b371",
   "metadata": {},
   "outputs": [
    {
     "name": "stdout",
     "output_type": "stream",
     "text": [
      "The most expensive SKU, on average, over the entire time period is 'D08L95YHWO' with an average revenue of 23117.38.\n"
     ]
    }
   ],
   "source": [
    "average_revenue_per_sku = sales_data.groupby('SKU_NAME')['ORDERED_REVENUE'].mean()\n",
    "most_expensive_sku = average_revenue_per_sku.idxmax()\n",
    "highest_average_revenue = average_revenue_per_sku.max()\n",
    "\n",
    "print(f\"The most expensive SKU, on average, over the entire time period is '{most_expensive_sku}' with an average revenue of {highest_average_revenue:.2f}.\")"
   ]
  },
  {
   "cell_type": "markdown",
   "id": "816a64c7",
   "metadata": {},
   "source": [
    "#We can conclude that sku 'D08L95YHWO' has been sold the most or it is the premium product with high price"
   ]
  },
  {
   "cell_type": "markdown",
   "id": "a7e39207",
   "metadata": {},
   "source": [
    "# QUESTION 2"
   ]
  },
  {
   "cell_type": "code",
   "execution_count": 10,
   "id": "551f62f2",
   "metadata": {},
   "outputs": [
    {
     "name": "stdout",
     "output_type": "stream",
     "text": [
      "The percentage of SKUs that have generated revenue is 78.49%.\n"
     ]
    }
   ],
   "source": [
    "revenue_of_sku = sales_data.groupby('SKU_NAME')['ORDERED_REVENUE'].sum()\n",
    "skus_with_revenue = (revenue_of_sku > 0).sum()\n",
    "total_skus = len(revenue_of_sku)\n",
    "\n",
    "percentage_skus_with_revenue = (skus_with_revenue/total_skus)*100\n",
    "\n",
    "print(f\"The percentage of SKUs that have generated revenue is {percentage_skus_with_revenue:.2f}%.\")"
   ]
  },
  {
   "cell_type": "markdown",
   "id": "d2b3bc13",
   "metadata": {},
   "source": [
    "#We can conclude that 78.5% of the SKUs have been of some sale among the total inventory"
   ]
  },
  {
   "cell_type": "code",
   "execution_count": 11,
   "id": "d10b0108",
   "metadata": {},
   "outputs": [],
   "source": [
    "#Identify SKUs that stopped selling completely after July"
   ]
  },
  {
   "cell_type": "code",
   "execution_count": 12,
   "id": "5c8f1987",
   "metadata": {},
   "outputs": [
    {
     "name": "stdout",
     "output_type": "stream",
     "text": [
      "SKUs that stopped selling completely after July:\n",
      "['B004FMWNKW', 'B004WQ8HS6', 'B006KSCQKJ', 'B007LUCJZW', 'B00;3H5XG9', 'B00DHPE[3Z', 'B00N67CJYG', 'B00WISOJL6', 'B00[09IWHS', 'B012GU7SOL', 'B012JWTJDC', 'B013WPQZ2U', 'B0148G:X2:', 'B017LI:T3T', 'B01DQ37D1Q', 'B01F[:YLFY', 'B01L[2OSVM', 'B01R0I8KFH', 'B01Z6OTS68', 'B023PT;UK5', 'B027LTJDHL', 'B029QK5QO4', 'B02:6D686Y', 'B02N9X5ECS', 'B02OUVWMKR', 'B03P6YDC55', 'B079R8STHR', 'B07:KN[6M6', 'B07B2XFY45', 'B07EEFWITR', 'B07JGQ6I5N', 'B07NSP43[C', 'B07NTL1Z:5', 'B07XI2QS2Z', 'B07XV4H9V4', 'B082S99N[C', 'B089K3VH9O', 'B08:;5YP75', 'B08G3NUI:2', 'B08HNKB:UV', 'B08MD1RCIY', 'B08NSQRRG[', 'B08OY;\\\\T[I', 'B08Q3EJP86', 'B08Y472N[U', 'B08YU3BS5R', 'B094DY1H:5', 'B094KTD6IW', 'B09DOU6S7P', 'B09IE4Y26M', 'B104NF32NV', 'B10:1TJG86', 'B10DQ7MPPA', 'B10DS5RZI6', 'B10ECKLLFI', 'B10V[S5YSO', 'B111S;CCLC', 'B112D4[DQM', 'B115ICA8LF', 'B115WBIYPC', 'B116DUQLEB', 'B11:4F6680', 'B11CDKYM3J', 'B11J0HXCQI', 'B11M6LR75G', 'B11ZORXUMW', 'B1212:PZ:V', 'B121O714Y2', 'B124O1:Q80', 'B1255YTFGA', 'B125:PNERK', 'B1268NRIRL', 'B128RO:5YU', 'B12DEKMLLG', 'B12JQON1JG', 'B12M69S7W6', 'B12MWAOCYI', 'B12NULIHEQ', 'B13LVANCV4', 'B13M0T8ZQM', 'B16Y1745NB', 'B171Y[66I9', 'B172T8N:V9', 'B178:R5R5L', 'B17FE8ZGLY', 'B17NJ;4CN7', 'B1826\\\\GXMM', 'B185MM49YD', 'B186MK7LQW', 'B186S:OSH:', 'B1878K26WG', 'B1882T8K9Q', 'B1883ON3Z4', 'B18ZIYLVU8', 'B19EE4YCZY', 'B19FINX3;3', 'B19J8R7P1C', 'B203VBOO9C', 'B204N64U7W', 'B205J5RPJQ', 'B205LUBLYM', 'B207GW2HRZ', 'B209T2DTGU', 'B20EKD5JF4', 'B20OUUXNW5', 'B213K5FIPU', 'B213VH76GH', 'B214M:0:PC', 'B2154U7FZF', 'B215GHP7Z7', 'B216U2FWEK', 'B21B6UON52', 'B21DCDJM84', 'B21E\\\\9ZKDH', 'B21LO8TNNY', 'B21LXRODI1', 'B21M6AG6NL', 'B21PQ3RNQO', 'B223F54NLG', 'B2248PPJ:J', 'B225I326ET', 'B227GVQ09Q', 'B22D5SOO;2', 'B22GZ9YNH:', 'B22OVTXOIY', 'B22OZ6\\\\O1[', 'B23N8NDT5Q', 'B26XOSR8:D', 'B273S9R9[B', 'B2756N6CMF', 'B2764UT3G7', 'B27:;86W4V', 'B2836[GWYV', 'B2865LLES3', 'B286Q8QSM:', 'B28CTPKMT8', 'B28D3XMS37', 'B28LYL4T8N', 'B29EF3W154', 'B29F3NQU49', 'C007RJ6S4B', 'C00ML;6:2K', 'C00NY7ZPH8', 'C019:8WTE8', 'C019SRO\\\\MJ', 'C01BROOL23', 'C01IRBUX3:', 'C01JPONNVK', 'C01O4UWTHH', 'C01O5SHE6S', 'C01TSH17OH', 'C01UZDOXX8', 'C024P0K:PE', 'C024XPOJL[', 'C024ZE\\\\C:9', 'C02JAMMO55', 'C02KO9VKH6', 'C02KP:UMZK', 'C02QYV5U3W', 'C02UYCQYRF', 'C035O8\\\\UJC', 'C03CBL[721', 'C03M2BOT\\\\P', 'C03M2D4NLZ', 'C073XHZ[72', 'C076JT7:XY', 'C077443GR3', 'C079F4K8DN', 'C07CSIE3MV', 'C081T9MDWU', 'C083VL5MYP', 'C08N8KVJDZ', 'C08NFR7F9Q', 'C08QQJNQR4', 'C08YT5NWGO', 'C0912U55X9', 'C091GS383S', 'C092S9M8UC', 'C093JQ;9EG', 'C094N6[MO8', 'C09;:9PR57', 'C09OGREK9L', 'C09P2KELCN', 'C102ONY5WZ', 'C104OR985T', 'C105HUP[UO', 'C1061ST0VY', 'C10:Y5JISK', 'C113XCHZQZ', 'C1152K2BC1', 'C115B4DCFK', 'C115HUW5SO', 'C115NX\\\\P:U', 'C11CFFFNHX', 'C11CHPFY5K', 'C11M2YN8S4', 'C11N2HZV:T', 'C11NFCONU5', 'C11P5WQYC4', 'C11SJ6R9E5', 'C11ULFE71M', 'C120[H:8NV', 'C124PR58CZ', 'C125OVFDU1', 'C12;C;8OPZ', 'C12E[9ZJSW', 'C12KPWM3IJ', 'C12L1Z21D4', 'C13EHKRAS4', 'C13MZE6L1D', 'C13N1DORBG', 'C174KT1O8T', 'C17672PZ9O', 'C176:M1K\\\\E', 'C17;Q9:IS5', 'C17E92HXZK', 'C17EHWN2PD', 'C17OTTQV;S', 'C17XOKRZNN', 'C182[ZK3G1', 'C18582VVJS', 'C18D6F2UTW', 'C18D6LCGZ5', 'C1915F72TB', 'C195YKS5F8', 'C1964PSQ[N', 'C1966HK2JX', 'C19DE8EMX8', 'C19GC\\\\4Q68', 'C19H8QCUDV', 'C19MTMJML;', 'C19PSPDHK4', 'C19T:CGV3L', 'C204DR2PT4', 'C209:UNGR3', 'C20MVUXOO4', 'C20VWL6T29', 'C211F62H36', 'C213I5Z84I', 'C214:PRAT2', 'C21C6TOOD6', 'C21ECSF\\\\XW', 'C21EJJQCUE', 'C21LXX222C', 'C21LY386ZI', 'C21OYE1HMD', 'C21PIJY9C2', 'C21\\\\1VYV:8', 'C223HTY6OG', 'C225:NPK4Y', 'C225FWSQHK', 'C225M:[XDI', 'C22;9UNFXQ', 'C22BEDZ:2S', 'C234IUW6N3', 'C23;OC765C', 'C23MG5MYU4', 'C272KW;MV8', 'C2775R2HTS', 'C279IT97C4', 'C27LXIM8JC', 'C283LHHX6L', 'C287D46S[I', 'C28HVD[RUK', 'C28L4BN873', 'C293R6CM8U', 'C29E8QOZ7M', 'C29GVG:VJD', 'C29R4SL67\\\\', 'D00FT8M7O2', 'D00P5SGE5I', 'D00VXBPXRY', 'D00\\\\2UXW5O', 'D013XAHXXL', 'D0149OPL89', 'D014WCJ[VI', 'D014[Y8YEZ', 'D016LM4SES', 'D01I340V6S', 'D01I3YBNZU', 'D01JJT40OY', 'D01KRONLEY', 'D01MH59L:1', 'D01O36ZWLO', 'D023IWR\\\\2M', 'D02DR5SY3I', 'D02N4PFMQV', 'D02RL461CX', 'D03G5YCESZ', 'D03I3XBHVB', 'D03M[UCKBI', 'D03N\\\\BK8NO', 'D03O20QQDE', 'D077Y:ZWDB', 'D07;D:4VGR', 'D07DE4WXR[', 'D07IELQD78', 'D07M5NSEXN', 'D07OFPCQU\\\\', 'D07OSP83NU', 'D07QEFDK\\\\E', 'D07YK6ZHZK', 'D083FXSVL4', 'D08DGZDU5V', 'D08E7NY[JL', 'D08I7DSN;X', 'D08L95YHWO', 'D08NTLH5[D', 'D08OQ6JT;5', 'D08RJOM3XB', 'D093T9RHB2', 'D09CROKOT7', 'D09I93YNLP', 'D09MWYH;XL', 'D09R9RLU9L', 'D102FV7QM2', 'D102VX\\\\R52', 'D107M38WRW', 'D10L[VPYJA', 'D114PRFDD:', 'D11DRPRJ84', 'D11EFYB9CH', 'D11H4WBEUI', 'D11I165;6C', 'D11I3WDI;G', 'D11LYCFQPK', 'D11O00VJF4', 'D11O1LTK5L', 'D11O3G::ZR', 'D12125XVGK', 'D124RFHQ9T', 'D125M8\\\\P:T', 'D126DM[TMI', 'D126YHPGCS', 'D126[CVF9J', 'D12EDZB8H8', 'D12ER8NB5R', 'D12G[:XLEO', 'D12LO8TJJ4', 'D12NT228XO', 'D12[2VWWYC', 'D13I94VQZ2', 'D13M1U7NTK', 'D13N2CIPQM', 'D13N[RMURU', 'D172GLQ83Y', 'D172NQYITB', 'D178Q:E8T:', 'D17:92M2FW', 'D17DE9URSI', 'D18684;3KZ', 'D186LNCIEV', 'D1875225KN', 'D187XMSWL3', 'D1883SDB64', 'D18DD7ZK8X', 'D18K41M8RX', 'D18KR9P99F', 'D18OUTXPC6', 'D18PY:ZT93', 'D18[3PIF2Y', 'D1964NJ7MI', 'D19KHDO;QN', 'D19PSTYDH:', 'D203VCOPFZ', 'D2097WM9JS', 'D20:5I8Z8W', 'D20CSKXW4I', 'D20JUJF[UO', 'D20[LLB9ZG', 'D211PEL2IE', 'D214HWSKBO', 'D214VCIZ\\\\D', 'D217:4ZNF0', 'D218T1DTFG', 'D21DDDJLQM', 'D21F5NQPFD', 'D21G77EFEH', 'D21J9KN6Y6', 'D21LP:UMOR', 'D21LZVP85U', 'D21P3C2QP[', 'D224XBK2GB', 'D225J4T84K', 'D225P747LT', 'D22:1F8F7B', 'D22FIJSD3D', 'D22TZCQYWC', 'D236H2[UEM', 'D236O:ZQ92', 'D23KPPNNKF', 'D26XH5B4OM', 'D271Z9R\\\\IG', 'D271\\\\GMD9Q', 'D276DLRIUG', 'D278[PCGZN', 'D27B3YDDMX', 'D27F5MQK4K', 'D27HO4VKKH', 'D27N[9[WYS', 'D27OBXYZ1D', 'D27PFQ7KYJ', 'D2869MTWCQ', 'D289;7OBJ9', 'D28EGTXVWH', 'D28FIEFW5V', 'D28NTVMU32', 'D28QU2Q7[:', 'D28ZI3PXUF', 'D29CMS5Q6O', 'D29OFPIPYD', 'D29S5IMRDI']\n"
     ]
    }
   ],
   "source": [
    "sales_data['FEED_DATE'] = pd.to_datetime(sales_data['FEED_DATE'])\n",
    "sales_data_after_july = sales_data[sales_data['FEED_DATE'] > '2019-08-01']\n",
    "revenue_after_july = sales_data_after_july.groupby('SKU_NAME')['ORDERED_REVENUE'].sum()\n",
    "\n",
    "skus_stopped_selling_after_july = (revenue_after_july == 0).index.tolist()\n",
    "\n",
    "print(\"SKUs that stopped selling completely after July:\")\n",
    "print(skus_stopped_selling_after_july)"
   ]
  },
  {
   "cell_type": "markdown",
   "id": "f802b2f8",
   "metadata": {},
   "source": [
    "#This list include the name of SKUs that completely stopped selling after July. Also we come to know about the market demand."
   ]
  },
  {
   "cell_type": "markdown",
   "id": "c7a5aa03",
   "metadata": {},
   "source": [
    "# QUESTION 3"
   ]
  },
  {
   "cell_type": "code",
   "execution_count": 13,
   "id": "2fbd7e41",
   "metadata": {},
   "outputs": [
    {
     "data": {
      "image/png": "[encoded data removed]",
      "text/plain": [
       "<Figure size 864x432 with 1 Axes>"
      ]
     },
     "metadata": {
      "needs_background": "light"
     },
     "output_type": "display_data"
    }
   ],
   "source": [
    "sales_data['FEED_DATE'] = pd.to_datetime(sales_data['FEED_DATE'])\n",
    "daily_revenue = sales_data.groupby('FEED_DATE')['ORDERED_REVENUE'].sum()\n",
    "\n",
    "plt.figure(figsize=(12, 6))\n",
    "plt.plot(daily_revenue.index, daily_revenue.values, marker='o', linestyle='-', color='b')\n",
    "plt.title('Daily Revenue Over Time')\n",
    "plt.xlabel('Date')\n",
    "plt.ylabel('Daily Revenue')\n",
    "plt.grid(True)\n",
    "plt.show()\n"
   ]
  },
  {
   "cell_type": "markdown",
   "id": "72477eca",
   "metadata": {},
   "source": [
    "#We can clearly see that '2019-07-15' was a sale event date as the revenue shows a sudden spike. That is we can pin-point the exacvt date of the sale event. Also we can see the effectiveness of the event. "
   ]
  },
  {
   "cell_type": "markdown",
   "id": "18f9b11b",
   "metadata": {},
   "source": [
    "# QUESTION 4"
   ]
  },
  {
   "cell_type": "code",
   "execution_count": 14,
   "id": "dae29615",
   "metadata": {},
   "outputs": [],
   "source": [
    "#By identifying the chart, we can state that the revenue dropped instantly after the sale."
   ]
  },
  {
   "cell_type": "markdown",
   "id": "c38adb2f",
   "metadata": {},
   "source": [
    "#Here the revenue after sale event drops, which means event was a success in revenue but the impact was bad which led daily revenue to be low as compared to average revenue."
   ]
  },
  {
   "cell_type": "markdown",
   "id": "35da76d9",
   "metadata": {},
   "source": [
    "# QUESTION 5"
   ]
  },
  {
   "cell_type": "code",
   "execution_count": 15,
   "id": "a7960bc2",
   "metadata": {},
   "outputs": [
    {
     "name": "stdout",
     "output_type": "stream",
     "text": [
      "Subcategory with Slowest Growth Rate Relative to Its Category:\n",
      "                      CATEGORY                     SUB_CATEGORY  \\\n",
      "0    0400 Computer Peripherals              0460 Mice - DELETED   \n",
      "1                  1000 Inputs  1008 Computer Peripherals Other   \n",
      "2      1500 Tablet Accessories     1504 Tablet Stands and Docks   \n",
      "3  5000 Portable Media Players       5045 Media Speaker Systems   \n",
      "\n",
      "   ORDERED_REVENUE  Growth Rate  \n",
      "0             0.00    -1.000000  \n",
      "1             0.00    -1.000000  \n",
      "2         13131.97    -0.530196  \n",
      "3       5765041.39    17.359727  \n"
     ]
    }
   ],
   "source": [
    "subcategory_revenue = sales_data.groupby(['CATEGORY', 'SUB_CATEGORY'])['ORDERED_REVENUE'].sum().reset_index()\n",
    "subcategory_revenue['Growth Rate'] = subcategory_revenue.groupby('CATEGORY')['ORDERED_REVENUE'].pct_change()\n",
    "slowest_growth_subcategory_index = subcategory_revenue.groupby('CATEGORY')['Growth Rate'].idxmin()\n",
    "slowest_growth_subcategory_index = slowest_growth_subcategory_index.dropna()\n",
    "slowest_growth_data = subcategory_revenue.loc[slowest_growth_subcategory_index].reset_index(drop=True)\n",
    "print(\"Subcategory with Slowest Growth Rate Relative to Its Category:\")\n",
    "print(slowest_growth_data)"
   ]
  },
  {
   "cell_type": "code",
   "execution_count": 16,
   "id": "795697c8",
   "metadata": {},
   "outputs": [],
   "source": [
    "#These following sub-category are the one to which we should be concerned about. "
   ]
  },
  {
   "cell_type": "markdown",
   "id": "509621ab",
   "metadata": {},
   "source": [
    "# QUESTION 6"
   ]
  },
  {
   "cell_type": "code",
   "execution_count": 17,
   "id": "550cd2c5",
   "metadata": {},
   "outputs": [],
   "source": [
    "#We can check for any null values"
   ]
  },
  {
   "cell_type": "code",
   "execution_count": 18,
   "id": "c8ca5ca0",
   "metadata": {},
   "outputs": [
    {
     "name": "stdout",
     "output_type": "stream",
     "text": [
      "Null values in sales data: \n",
      "SKU_NAME             0\n",
      "FEED_DATE            0\n",
      "CATEGORY             0\n",
      "SUB_CATEGORY         0\n",
      "ORDERED_REVENUE      0\n",
      "ORDERED_UNITS        0\n",
      "REP_OOS            689\n",
      "dtype: int64\n",
      "\n",
      " Null values in glance: \n",
      "SKU_NAME     0\n",
      "FEED_DATE    0\n",
      "VIEWS        0\n",
      "UNITS        0\n",
      "dtype: int64\n"
     ]
    }
   ],
   "source": [
    "missing_sales_values = sales_data.isnull().sum()\n",
    "missing_glance_values = glance_view.isnull().sum()\n",
    "print(\"Null values in sales data: \")\n",
    "print(missing_sales_values)\n",
    "print(\"\\n Null values in glance: \")\n",
    "print(missing_glance_values)"
   ]
  },
  {
   "cell_type": "code",
   "execution_count": 19,
   "id": "a225286b",
   "metadata": {},
   "outputs": [],
   "source": [
    "#We can check for duplicate values"
   ]
  },
  {
   "cell_type": "code",
   "execution_count": 20,
   "id": "f2e53568",
   "metadata": {},
   "outputs": [
    {
     "name": "stdout",
     "output_type": "stream",
     "text": [
      "Duplicate Entries in Sales Data: \n",
      "Empty DataFrame\n",
      "Columns: [SKU_NAME, FEED_DATE, CATEGORY, SUB_CATEGORY, ORDERED_REVENUE, ORDERED_UNITS, REP_OOS]\n",
      "Index: []\n",
      "\n",
      "Duplicate Entries in Glance Data: \n",
      "Empty DataFrame\n",
      "Columns: [SKU_NAME, FEED_DATE, VIEWS, UNITS]\n",
      "Index: []\n"
     ]
    }
   ],
   "source": [
    "duplicate_sales_values = sales_data[sales_data.duplicated()]\n",
    "duplicate_glance_values = glance_view[glance_view.duplicated()]\n",
    "print(\"Duplicate Entries in Sales Data: \")\n",
    "print(duplicate_sales_values)\n",
    "print(\"\\nDuplicate Entries in Glance Data: \")\n",
    "print(duplicate_glance_values)"
   ]
  },
  {
   "cell_type": "markdown",
   "id": "3fc6e425",
   "metadata": {},
   "source": [
    "# QUESTION 7"
   ]
  },
  {
   "cell_type": "code",
   "execution_count": 21,
   "id": "e4e54d9b",
   "metadata": {},
   "outputs": [
    {
     "name": "stdout",
     "output_type": "stream",
     "text": [
      "Correlation Coefficient between Units/Views and ASP: nan\n"
     ]
    }
   ],
   "source": [
    "sku_sales_data = sales_data[sales_data['SKU_NAME'] == 'C120[H:8NV]']\n",
    "sku_glance_view = glance_view[glance_view['SKU_NAME'] == 'C120[H:8NV]'][['FEED_DATE', 'VIEWS']]\n",
    "sku_sales_data['ASP'] = sku_sales_data['ORDERED_REVENUE'] / sku_sales_data['ORDERED_UNITS']\n",
    "sku_sales_data['FEED_DATE'] = pd.to_datetime(sku_sales_data['FEED_DATE'])\n",
    "sku_glance_view['FEED_DATE'] = pd.to_datetime(sku_glance_view['FEED_DATE'])\n",
    "merged_data = pd.merge(sku_sales_data, sku_glance_view, on='FEED_DATE', how='inner')\n",
    "merged_data = merged_data.dropna()\n",
    "merged_data = merged_data[(merged_data['VIEWS'] != 0) & (merged_data['ORDERED_UNITS'] != 0)]\n",
    "correlation = merged_data['ASP'].corr(merged_data['ORDERED_UNITS'] / merged_data['VIEWS'])\n",
    "print(f\"Correlation Coefficient between Units/Views and ASP: {correlation:.2f}\")"
   ]
  },
  {
   "cell_type": "code",
   "execution_count": 22,
   "id": "d180aa50",
   "metadata": {},
   "outputs": [],
   "source": [
    "#No, Unit conversion is not affected by Average Selling Price."
   ]
  }
 ],
 "metadata": {
  "kernelspec": {
   "display_name": "Python 3 (ipykernel)",
   "language": "python",
   "name": "python3"
  },
  "language_info": {
   "codemirror_mode": {
    "name": "ipython",
    "version": 3
   },
   "file_extension": ".py",
   "mimetype": "text/x-python",
   "name": "python",
   "nbconvert_exporter": "python",
   "pygments_lexer": "ipython3",
   "version": "3.9.6"
  }
 },
 "nbformat": 4,
 "nbformat_minor": 5
}
